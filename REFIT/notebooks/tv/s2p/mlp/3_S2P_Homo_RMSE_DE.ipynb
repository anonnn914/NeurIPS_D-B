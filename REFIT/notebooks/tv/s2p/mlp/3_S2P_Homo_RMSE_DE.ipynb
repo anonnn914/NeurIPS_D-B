{
 "cells": [
  {
   "cell_type": "code",
   "execution_count": 1,
   "metadata": {},
   "outputs": [],
   "source": [
    "import os\n",
    "os.chdir(\"../../../../\")"
   ]
  },
  {
   "cell_type": "code",
   "execution_count": 2,
   "metadata": {},
   "outputs": [],
   "source": [
    "os.environ['CUDA_VISIBLE_DEVICES'] = str(3)"
   ]
  },
  {
   "cell_type": "code",
   "execution_count": 3,
   "metadata": {},
   "outputs": [
    {
     "name": "stderr",
     "output_type": "stream",
     "text": [
      "2024-05-29 00:12:30.302704: W external/xla/xla/service/gpu/nvptx_compiler.cc:679] The NVIDIA driver's CUDA version is 12.2 which is older than the ptxas CUDA version (12.4.131). Because the driver is older than the ptxas version, XLA is disabling parallel compilation, which may slow down compilation. You should update your NVIDIA driver or use the NVIDIA-provided CUDA forward compatibility packages.\n"
     ]
    }
   ],
   "source": [
    "import jax\n",
    "import jax.numpy as jnp\n",
    "import numpy as np\n",
    "import flax.linen as nn\n",
    "import optax\n",
    "import pandas as pd\n",
    "from functools import partial\n",
    "from sklearn.preprocessing import StandardScaler\n",
    "import matplotlib.pyplot as plt\n",
    "import seaborn as sns\n",
    "from utilities.fits import fit\n",
    "from data_small.dataset_loader import dataset_load\n",
    "from utilities import plot, gmm, errors, predict, preprocess\n",
    "from utilities.recalibration_conformal import *\n",
    "from models import seq2point\n",
    "import scipy.stats as st\n",
    "# from mapie.metrics import regression_coverage_score\n",
    "from sklearn.isotonic import IsotonicRegression\n",
    "from tueplots import bundles\n",
    "os.environ[\"XLA_FLAGS\"] = \"--xla_gpu_deterministic_reductions --xla_gpu_autotune_level=2\"\n",
    "os.environ['TF_CUDNN_DETERMINISTIC'] = '1'"
   ]
  },
  {
   "cell_type": "markdown",
   "metadata": {},
   "source": [
    "# Model Training"
   ]
  },
  {
   "cell_type": "code",
   "execution_count": 4,
   "metadata": {},
   "outputs": [],
   "source": [
    "train = {1: {'start_time': \"2014-06-20\",'end_time': \"2014-06-25\"},\n",
    "         2: {'start_time': \"2014-06-20\",'end_time': \"2014-06-25\"},\n",
    "         4: {'start_time': \"2014-06-20\",'end_time': \"2014-06-25\"},\n",
    "        #  5: {'start_time': \"2014-06-20\",'end_time': \"2014-06-30\"},\n",
    "        #  6: {'start_time': \"2014-06-20\",'end_time': \"2014-06-30\"},\n",
    "        #  7: {'start_time': \"2014-06-15\",'end_time': \"2014-06-30\"},\n",
    "        #  9: {'start_time': \"2014-06-15\",'end_time': \"2014-06-30\"},\n",
    "        #  10: {'start_time': \"2014-06-15\",'end_time': \"2014-06-30\"},\n",
    "        #  11: {'start_time': \"2014-06-15\",'end_time': \"2014-06-30\"},\n",
    "        #  13: {'start_time': \"2014-06-15\",'end_time': \"2014-06-30\"}\n",
    "        }\n",
    "test = {14: {'start_time': \"2014-08-01\",'end_time': \"2014-08-10\"},\n",
    "        # 15: {'start_time': \"2014-08-01\",'end_time': \"2014-08-10\"},\n",
    "        # 17: {'start_time': \"2014-08-01\",'end_time': \"2014-08-10\"},\n",
    "        # 19: {'start_time': \"2014-08-01\",'end_time': \"2014-08-10\"},\n",
    "        # 20: {'start_time': \"2014-08-01\",'end_time': \"2014-08-10\"}\n",
    "       }\n",
    "appliances = [\"television\"]"
   ]
  },
  {
   "cell_type": "code",
   "execution_count": 5,
   "metadata": {},
   "outputs": [],
   "source": [
    "datas = dataset_load(appliances, train, test, 99, split_factor=0.25)\n",
    "x_train, y_train = datas[0], datas[1]\n",
    "x_cal, y_cal = datas[2], datas[3]\n",
    "x_test, y_test = datas[4], datas[5]\n",
    "x_test_timestamp = datas[6]\n",
    "scaler_x, scaler_y = datas[7], datas[8]"
   ]
  },
  {
   "cell_type": "code",
   "execution_count": 6,
   "metadata": {},
   "outputs": [],
   "source": [
    "model = seq2point.seq2point()"
   ]
  },
  {
   "cell_type": "code",
   "execution_count": 7,
   "metadata": {},
   "outputs": [],
   "source": [
    "params =  model.init(jax.random.PRNGKey(0), x_train, True)\n",
    "params, losses = fit(model, params, x_train, y_train, False, batch_size=32, learning_rate=0.001, epochs=50)"
   ]
  },
  {
   "cell_type": "code",
   "execution_count": 8,
   "metadata": {},
   "outputs": [
    {
     "data": {
      "image/png": "[encoded data removed]",
      "text/plain": [
       "<Figure size 640x480 with 1 Axes>"
      ]
     },
     "metadata": {},
     "output_type": "display_data"
    }
   ],
   "source": [
    "plt.plot(losses)\n",
    "sns.despine()"
   ]
  },
  {
   "cell_type": "code",
   "execution_count": 9,
   "metadata": {},
   "outputs": [],
   "source": [
    "def de_train(x, y, i, model):\n",
    "    param = model.init(jax.random.PRNGKey(i), x_train, True)\n",
    "    param, losses = fit(model, param, x, y, False, batch_size=32,\n",
    "                        learning_rate=0.001, epochs=50)\n",
    "    return param, losses\n",
    "\n",
    "\n",
    "de_train = jax.tree_util.Partial(de_train, model=model)\n",
    "\n",
    "\n",
    "def predict(x, param, model):\n",
    "    yhat = model.apply(param, x, True)\n",
    "    return yhat\n",
    "\n",
    "\n",
    "test_ = jax.tree_util.Partial(predict, model=model)"
   ]
  },
  {
   "cell_type": "code",
   "execution_count": 10,
   "metadata": {},
   "outputs": [],
   "source": [
    "params_list, losses_list = jax.jit(jax.vmap(de_train, in_axes=(None, None, 0)))(x_train, y_train, jnp.arange(4))"
   ]
  },
  {
   "cell_type": "markdown",
   "metadata": {},
   "source": [
    "# Before Calibration"
   ]
  },
  {
   "cell_type": "markdown",
   "metadata": {},
   "source": [
    "##### Results on Calibration Set"
   ]
  },
  {
   "cell_type": "code",
   "execution_count": 11,
   "metadata": {},
   "outputs": [],
   "source": [
    "y_stacks = jax.jit(jax.vmap(test_, in_axes=(None, 0)))(x_cal, params_list)"
   ]
  },
  {
   "cell_type": "code",
   "execution_count": 12,
   "metadata": {},
   "outputs": [],
   "source": [
    "de_cal_mean = y_stacks.mean(axis=0)\n",
    "de_cal_sigma = y_stacks.std(axis=0)"
   ]
  },
  {
   "cell_type": "code",
   "execution_count": 13,
   "metadata": {},
   "outputs": [],
   "source": [
    "de_cal_mean = scaler_y.inverse_transform(de_cal_mean)\n",
    "de_cal_sigma = (scaler_y.scale_*de_cal_sigma)\n",
    "y_true_cal = scaler_y.inverse_transform(y_cal)"
   ]
  },
  {
   "cell_type": "code",
   "execution_count": 14,
   "metadata": {},
   "outputs": [
    {
     "name": "stdout",
     "output_type": "stream",
     "text": [
      "RMSE : 6.3300 MAE  : 3.5464 NLL  : 4.9282\n"
     ]
    }
   ],
   "source": [
    "print(f\"RMSE : {errors.rmse(y_true_cal, de_cal_mean):.4f}\",\n",
    "      f\"MAE  : {errors.mae(y_true_cal, de_cal_mean):.4f}\",\n",
    "      f\"NLL  : {errors.NLL(de_cal_mean, de_cal_sigma, y_true_cal):.4f}\")"
   ]
  },
  {
   "cell_type": "markdown",
   "metadata": {},
   "source": [
    "##### Results on Training Set"
   ]
  },
  {
   "cell_type": "code",
   "execution_count": 15,
   "metadata": {},
   "outputs": [
    {
     "name": "stderr",
     "output_type": "stream",
     "text": [
      "2024-05-29 00:34:12.404110: E external/xla/xla/service/slow_operation_alarm.cc:65] Trying algorithm eng46{k2=1,k5=3,k14=2} for conv (f32[167270,120,99]{2,1,0}, u8[0]{0}) custom-call(f32[167270,120,106]{2,1,0}, f32[120,30,8]{2,1,0}), window={size=8}, dim_labels=bf0_oi0->bf0, feature_group_count=4, custom_call_target=\"__cudnn$convForward\", backend_config={\"conv_result_scale\":1,\"activation_mode\":\"kNone\",\"side_input_scale\":0,\"leakyrelu_alpha\":0} is taking a while...\n",
      "2024-05-29 00:34:12.708593: E external/xla/xla/service/slow_operation_alarm.cc:133] The operation took 1.304604324s\n",
      "Trying algorithm eng46{k2=1,k5=3,k14=2} for conv (f32[167270,120,99]{2,1,0}, u8[0]{0}) custom-call(f32[167270,120,106]{2,1,0}, f32[120,30,8]{2,1,0}), window={size=8}, dim_labels=bf0_oi0->bf0, feature_group_count=4, custom_call_target=\"__cudnn$convForward\", backend_config={\"conv_result_scale\":1,\"activation_mode\":\"kNone\",\"side_input_scale\":0,\"leakyrelu_alpha\":0} is taking a while...\n",
      "2024-05-29 00:34:15.548757: E external/xla/xla/service/slow_operation_alarm.cc:65] Trying algorithm eng46{k2=1,k5=3,k14=2} for conv (f32[167270,160,99]{2,1,0}, u8[0]{0}) custom-call(f32[167270,120,104]{2,1,0}, f32[160,30,6]{2,1,0}), window={size=6}, dim_labels=bf0_oi0->bf0, feature_group_count=4, custom_call_target=\"__cudnn$convForward\", backend_config={\"conv_result_scale\":1,\"activation_mode\":\"kNone\",\"side_input_scale\":0,\"leakyrelu_alpha\":0} is taking a while...\n",
      "2024-05-29 00:34:16.050946: E external/xla/xla/service/slow_operation_alarm.cc:133] The operation took 1.502273384s\n",
      "Trying algorithm eng46{k2=1,k5=3,k14=2} for conv (f32[167270,160,99]{2,1,0}, u8[0]{0}) custom-call(f32[167270,120,104]{2,1,0}, f32[160,30,6]{2,1,0}), window={size=6}, dim_labels=bf0_oi0->bf0, feature_group_count=4, custom_call_target=\"__cudnn$convForward\", backend_config={\"conv_result_scale\":1,\"activation_mode\":\"kNone\",\"side_input_scale\":0,\"leakyrelu_alpha\":0} is taking a while...\n",
      "2024-05-29 00:34:19.446847: E external/xla/xla/service/slow_operation_alarm.cc:65] Trying algorithm eng46{k2=1,k5=3,k14=2} for conv (f32[167270,200,99]{2,1,0}, u8[0]{0}) custom-call(f32[167270,160,99]{2,1,0}, f32[200,40,5]{2,1,0}), window={size=5 pad=2_2}, dim_labels=bf0_oi0->bf0, feature_group_count=4, custom_call_target=\"__cudnn$convForward\", backend_config={\"conv_result_scale\":1,\"activation_mode\":\"kNone\",\"side_input_scale\":0,\"leakyrelu_alpha\":0} is taking a while...\n",
      "2024-05-29 00:34:20.061498: E external/xla/xla/service/slow_operation_alarm.cc:133] The operation took 1.614739951s\n",
      "Trying algorithm eng46{k2=1,k5=3,k14=2} for conv (f32[167270,200,99]{2,1,0}, u8[0]{0}) custom-call(f32[167270,160,99]{2,1,0}, f32[200,40,5]{2,1,0}), window={size=5 pad=2_2}, dim_labels=bf0_oi0->bf0, feature_group_count=4, custom_call_target=\"__cudnn$convForward\", backend_config={\"conv_result_scale\":1,\"activation_mode\":\"kNone\",\"side_input_scale\":0,\"leakyrelu_alpha\":0} is taking a while...\n",
      "2024-05-29 00:34:23.722472: E external/xla/xla/service/slow_operation_alarm.cc:65] Trying algorithm eng46{k2=1,k5=3,k14=2} for conv (f32[167270,200,99]{2,1,0}, u8[0]{0}) custom-call(f32[167270,200,99]{2,1,0}, f32[200,50,5]{2,1,0}), window={size=5 pad=2_2}, dim_labels=bf0_oi0->bf0, feature_group_count=4, custom_call_target=\"__cudnn$convForward\", backend_config={\"conv_result_scale\":1,\"activation_mode\":\"kNone\",\"side_input_scale\":0,\"leakyrelu_alpha\":0} is taking a while...\n",
      "2024-05-29 00:34:24.166144: E external/xla/xla/service/slow_operation_alarm.cc:133] The operation took 1.443808363s\n",
      "Trying algorithm eng46{k2=1,k5=3,k14=2} for conv (f32[167270,200,99]{2,1,0}, u8[0]{0}) custom-call(f32[167270,200,99]{2,1,0}, f32[200,50,5]{2,1,0}), window={size=5 pad=2_2}, dim_labels=bf0_oi0->bf0, feature_group_count=4, custom_call_target=\"__cudnn$convForward\", backend_config={\"conv_result_scale\":1,\"activation_mode\":\"kNone\",\"side_input_scale\":0,\"leakyrelu_alpha\":0} is taking a while...\n"
     ]
    }
   ],
   "source": [
    "y_stacks_train = jax.jit(\n",
    "    jax.vmap(test_, in_axes=(None, 0)))(x_train, params_list)\n",
    "de_train_mean = y_stacks_train.mean(axis=0)\n",
    "de_train_sigma = y_stacks_train.std(axis=0)"
   ]
  },
  {
   "cell_type": "code",
   "execution_count": 16,
   "metadata": {},
   "outputs": [],
   "source": [
    "de_train_mean = scaler_y.inverse_transform(de_train_mean)\n",
    "de_train_sigma = (scaler_y.scale_*de_train_sigma)\n",
    "y_train_scaled = scaler_y.inverse_transform(y_train)"
   ]
  },
  {
   "cell_type": "code",
   "execution_count": 17,
   "metadata": {},
   "outputs": [
    {
     "name": "stdout",
     "output_type": "stream",
     "text": [
      "RMSE : 5.5840 MAE  : 3.1003 NLL  : 4.0096\n"
     ]
    }
   ],
   "source": [
    "print(f\"RMSE : {errors.rmse(y_train_scaled, de_train_mean):.4f}\",\n",
    "      f\"MAE  : {errors.mae(y_train_scaled, de_train_mean):.4f}\",\n",
    "      f\"NLL  : {errors.NLL(de_train_mean, de_train_sigma, y_train_scaled):.4f}\")"
   ]
  },
  {
   "cell_type": "markdown",
   "metadata": {},
   "source": [
    "##### Results on Test Set"
   ]
  },
  {
   "cell_type": "code",
   "execution_count": 18,
   "metadata": {},
   "outputs": [
    {
     "name": "stderr",
     "output_type": "stream",
     "text": [
      "2024-05-29 00:34:33.804873: E external/xla/xla/service/slow_operation_alarm.cc:65] Trying algorithm eng46{k2=1,k5=3,k14=2} for conv (f32[102206,160,99]{2,1,0}, u8[0]{0}) custom-call(f32[102206,120,104]{2,1,0}, f32[160,30,6]{2,1,0}), window={size=6}, dim_labels=bf0_oi0->bf0, feature_group_count=4, custom_call_target=\"__cudnn$convForward\", backend_config={\"conv_result_scale\":1,\"activation_mode\":\"kNone\",\"side_input_scale\":0,\"leakyrelu_alpha\":0} is taking a while...\n",
      "2024-05-29 00:34:34.040447: E external/xla/xla/service/slow_operation_alarm.cc:133] The operation took 1.235723174s\n",
      "Trying algorithm eng46{k2=1,k5=3,k14=2} for conv (f32[102206,160,99]{2,1,0}, u8[0]{0}) custom-call(f32[102206,120,104]{2,1,0}, f32[160,30,6]{2,1,0}), window={size=6}, dim_labels=bf0_oi0->bf0, feature_group_count=4, custom_call_target=\"__cudnn$convForward\", backend_config={\"conv_result_scale\":1,\"activation_mode\":\"kNone\",\"side_input_scale\":0,\"leakyrelu_alpha\":0} is taking a while...\n",
      "2024-05-29 00:34:36.502086: E external/xla/xla/service/slow_operation_alarm.cc:65] Trying algorithm eng46{k2=1,k5=3,k14=2} for conv (f32[102206,200,99]{2,1,0}, u8[0]{0}) custom-call(f32[102206,160,99]{2,1,0}, f32[200,40,5]{2,1,0}), window={size=5 pad=2_2}, dim_labels=bf0_oi0->bf0, feature_group_count=4, custom_call_target=\"__cudnn$convForward\", backend_config={\"conv_result_scale\":1,\"activation_mode\":\"kNone\",\"side_input_scale\":0,\"leakyrelu_alpha\":0} is taking a while...\n",
      "2024-05-29 00:34:36.898362: E external/xla/xla/service/slow_operation_alarm.cc:133] The operation took 1.396422523s\n",
      "Trying algorithm eng46{k2=1,k5=3,k14=2} for conv (f32[102206,200,99]{2,1,0}, u8[0]{0}) custom-call(f32[102206,160,99]{2,1,0}, f32[200,40,5]{2,1,0}), window={size=5 pad=2_2}, dim_labels=bf0_oi0->bf0, feature_group_count=4, custom_call_target=\"__cudnn$convForward\", backend_config={\"conv_result_scale\":1,\"activation_mode\":\"kNone\",\"side_input_scale\":0,\"leakyrelu_alpha\":0} is taking a while...\n",
      "2024-05-29 00:34:39.521134: E external/xla/xla/service/slow_operation_alarm.cc:65] Trying algorithm eng46{k2=1,k5=3,k14=2} for conv (f32[102206,200,99]{2,1,0}, u8[0]{0}) custom-call(f32[102206,200,99]{2,1,0}, f32[200,50,5]{2,1,0}), window={size=5 pad=2_2}, dim_labels=bf0_oi0->bf0, feature_group_count=4, custom_call_target=\"__cudnn$convForward\", backend_config={\"conv_result_scale\":1,\"activation_mode\":\"kNone\",\"side_input_scale\":0,\"leakyrelu_alpha\":0} is taking a while...\n",
      "2024-05-29 00:34:39.959854: E external/xla/xla/service/slow_operation_alarm.cc:133] The operation took 1.438837079s\n",
      "Trying algorithm eng46{k2=1,k5=3,k14=2} for conv (f32[102206,200,99]{2,1,0}, u8[0]{0}) custom-call(f32[102206,200,99]{2,1,0}, f32[200,50,5]{2,1,0}), window={size=5 pad=2_2}, dim_labels=bf0_oi0->bf0, feature_group_count=4, custom_call_target=\"__cudnn$convForward\", backend_config={\"conv_result_scale\":1,\"activation_mode\":\"kNone\",\"side_input_scale\":0,\"leakyrelu_alpha\":0} is taking a while...\n"
     ]
    }
   ],
   "source": [
    "y_stacks_test = jax.jit(\n",
    "    jax.vmap(test_, in_axes=(None, 0)))(x_test, params_list)"
   ]
  },
  {
   "cell_type": "code",
   "execution_count": 19,
   "metadata": {},
   "outputs": [],
   "source": [
    "de_test_mean = y_stacks_test.mean(axis=0)\n",
    "de_test_sigma = y_stacks_test.std(axis=0)"
   ]
  },
  {
   "cell_type": "code",
   "execution_count": 20,
   "metadata": {},
   "outputs": [],
   "source": [
    "de_test_mean = scaler_y.inverse_transform(de_test_mean)\n",
    "de_test_sigma = (scaler_y.scale_*de_test_sigma)"
   ]
  },
  {
   "cell_type": "code",
   "execution_count": 21,
   "metadata": {},
   "outputs": [
    {
     "name": "stdout",
     "output_type": "stream",
     "text": [
      "RMSE : 31.2267 MAE  : 21.7990 NLL  : 134.8689\n"
     ]
    }
   ],
   "source": [
    "print(f\"RMSE : {errors.rmse(y_test, de_test_mean):.4f}\", f\"MAE  : {errors.mae(y_test, de_test_mean):.4f}\",\n",
    "      f\"NLL  : {errors.NLL(de_test_mean, de_test_sigma, y_test):.4f}\")"
   ]
  },
  {
   "cell_type": "markdown",
   "metadata": {},
   "source": [
    "# After Calibration"
   ]
  },
  {
   "cell_type": "markdown",
   "metadata": {},
   "source": [
    "### Isotonic Regression"
   ]
  },
  {
   "cell_type": "code",
   "execution_count": 22,
   "metadata": {},
   "outputs": [],
   "source": [
    "def ace(ideal, predicted):\n",
    "    \"\"\"\n",
    "    dataframe : pandas dataframe with Ideal and Counts as column for regression calibration\n",
    "    It can be directly used as 2nd output from calibration_regression in plot.py \n",
    "    \"\"\"\n",
    "    def rmse_loss(y, yhat):\n",
    "        return jnp.abs(y-yhat)\n",
    "    return jnp.mean(jax.vmap(rmse_loss, in_axes=(0, 0))(ideal, predicted))"
   ]
  },
  {
   "cell_type": "code",
   "execution_count": 23,
   "metadata": {},
   "outputs": [],
   "source": [
    "series_train = find_p_hat(y_train_scaled, de_train_mean, de_train_sigma)\n",
    "series_test = find_p_hat(y_test, de_test_mean, de_test_sigma)\n",
    "series_cal = find_p_hat(y_true_cal, de_cal_mean, de_cal_sigma)"
   ]
  },
  {
   "cell_type": "code",
   "execution_count": 24,
   "metadata": {},
   "outputs": [
    {
     "data": {
      "text/html": [
       "<style>#sk-container-id-1 {color: black;}#sk-container-id-1 pre{padding: 0;}#sk-container-id-1 div.sk-toggleable {background-color: white;}#sk-container-id-1 label.sk-toggleable__label {cursor: pointer;display: block;width: 100%;margin-bottom: 0;padding: 0.3em;box-sizing: border-box;text-align: center;}#sk-container-id-1 label.sk-toggleable__label-arrow:before {content: \"▸\";float: left;margin-right: 0.25em;color: #696969;}#sk-container-id-1 label.sk-toggleable__label-arrow:hover:before {color: black;}#sk-container-id-1 div.sk-estimator:hover label.sk-toggleable__label-arrow:before {color: black;}#sk-container-id-1 div.sk-toggleable__content {max-height: 0;max-width: 0;overflow: hidden;text-align: left;background-color: #f0f8ff;}#sk-container-id-1 div.sk-toggleable__content pre {margin: 0.2em;color: black;border-radius: 0.25em;background-color: #f0f8ff;}#sk-container-id-1 input.sk-toggleable__control:checked~div.sk-toggleable__content {max-height: 200px;max-width: 100%;overflow: auto;}#sk-container-id-1 input.sk-toggleable__control:checked~label.sk-toggleable__label-arrow:before {content: \"▾\";}#sk-container-id-1 div.sk-estimator input.sk-toggleable__control:checked~label.sk-toggleable__label {background-color: #d4ebff;}#sk-container-id-1 div.sk-label input.sk-toggleable__control:checked~label.sk-toggleable__label {background-color: #d4ebff;}#sk-container-id-1 input.sk-hidden--visually {border: 0;clip: rect(1px 1px 1px 1px);clip: rect(1px, 1px, 1px, 1px);height: 1px;margin: -1px;overflow: hidden;padding: 0;position: absolute;width: 1px;}#sk-container-id-1 div.sk-estimator {font-family: monospace;background-color: #f0f8ff;border: 1px dotted black;border-radius: 0.25em;box-sizing: border-box;margin-bottom: 0.5em;}#sk-container-id-1 div.sk-estimator:hover {background-color: #d4ebff;}#sk-container-id-1 div.sk-parallel-item::after {content: \"\";width: 100%;border-bottom: 1px solid gray;flex-grow: 1;}#sk-container-id-1 div.sk-label:hover label.sk-toggleable__label {background-color: #d4ebff;}#sk-container-id-1 div.sk-serial::before {content: \"\";position: absolute;border-left: 1px solid gray;box-sizing: border-box;top: 0;bottom: 0;left: 50%;z-index: 0;}#sk-container-id-1 div.sk-serial {display: flex;flex-direction: column;align-items: center;background-color: white;padding-right: 0.2em;padding-left: 0.2em;position: relative;}#sk-container-id-1 div.sk-item {position: relative;z-index: 1;}#sk-container-id-1 div.sk-parallel {display: flex;align-items: stretch;justify-content: center;background-color: white;position: relative;}#sk-container-id-1 div.sk-item::before, #sk-container-id-1 div.sk-parallel-item::before {content: \"\";position: absolute;border-left: 1px solid gray;box-sizing: border-box;top: 0;bottom: 0;left: 50%;z-index: -1;}#sk-container-id-1 div.sk-parallel-item {display: flex;flex-direction: column;z-index: 1;position: relative;background-color: white;}#sk-container-id-1 div.sk-parallel-item:first-child::after {align-self: flex-end;width: 50%;}#sk-container-id-1 div.sk-parallel-item:last-child::after {align-self: flex-start;width: 50%;}#sk-container-id-1 div.sk-parallel-item:only-child::after {width: 0;}#sk-container-id-1 div.sk-dashed-wrapped {border: 1px dashed gray;margin: 0 0.4em 0.5em 0.4em;box-sizing: border-box;padding-bottom: 0.4em;background-color: white;}#sk-container-id-1 div.sk-label label {font-family: monospace;font-weight: bold;display: inline-block;line-height: 1.2em;}#sk-container-id-1 div.sk-label-container {text-align: center;}#sk-container-id-1 div.sk-container {/* jupyter's `normalize.less` sets `[hidden] { display: none; }` but bootstrap.min.css set `[hidden] { display: none !important; }` so we also need the `!important` here to be able to override the default hidden behavior on the sphinx rendered scikit-learn.org. See: https://github.com/scikit-learn/scikit-learn/issues/21755 */display: inline-block !important;position: relative;}#sk-container-id-1 div.sk-text-repr-fallback {display: none;}</style><div id=\"sk-container-id-1\" class=\"sk-top-container\"><div class=\"sk-text-repr-fallback\"><pre>IsotonicRegression(out_of_bounds=&#x27;clip&#x27;)</pre><b>In a Jupyter environment, please rerun this cell to show the HTML representation or trust the notebook. <br />On GitHub, the HTML representation is unable to render, please try loading this page with nbviewer.org.</b></div><div class=\"sk-container\" hidden><div class=\"sk-item\"><div class=\"sk-estimator sk-toggleable\"><input class=\"sk-toggleable__control sk-hidden--visually\" id=\"sk-estimator-id-1\" type=\"checkbox\" checked><label for=\"sk-estimator-id-1\" class=\"sk-toggleable__label sk-toggleable__label-arrow\">IsotonicRegression</label><div class=\"sk-toggleable__content\"><pre>IsotonicRegression(out_of_bounds=&#x27;clip&#x27;)</pre></div></div></div></div></div>"
      ],
      "text/plain": [
       "IsotonicRegression(out_of_bounds='clip')"
      ]
     },
     "execution_count": 24,
     "metadata": {},
     "output_type": "execute_result"
    }
   ],
   "source": [
    "calibrator = IsotonicRegression(out_of_bounds='clip')\n",
    "calibrator.fit(series_cal.values, series_cal.index)"
   ]
  },
  {
   "cell_type": "code",
   "execution_count": 25,
   "metadata": {},
   "outputs": [],
   "source": [
    "p = series_cal.index\n",
    "new_p = calibrator.predict(series_cal.index)"
   ]
  },
  {
   "cell_type": "code",
   "execution_count": 26,
   "metadata": {},
   "outputs": [],
   "source": [
    "new_p_hat_train = find_new_p_hat(\n",
    "    y_train_scaled, new_p, de_train_mean, de_train_sigma)\n",
    "new_p_hat_cal = find_new_p_hat(y_true_cal, new_p, de_cal_mean, de_cal_sigma)\n",
    "new_p_hat_test = find_new_p_hat(y_test, new_p, de_test_mean, de_test_sigma)"
   ]
  },
  {
   "cell_type": "code",
   "execution_count": 27,
   "metadata": {},
   "outputs": [
    {
     "data": {
      "text/plain": [
       "{'text.usetex': True,\n",
       " 'font.family': 'serif',\n",
       " 'text.latex.preamble': '\\\\usepackage{times} ',\n",
       " 'figure.figsize': (3.25, 2.0086104634371584),\n",
       " 'figure.constrained_layout.use': True,\n",
       " 'figure.autolayout': False,\n",
       " 'savefig.bbox': 'tight',\n",
       " 'savefig.pad_inches': 0.015,\n",
       " 'font.size': 8,\n",
       " 'axes.labelsize': 8,\n",
       " 'legend.fontsize': 6,\n",
       " 'xtick.labelsize': 6,\n",
       " 'ytick.labelsize': 6,\n",
       " 'axes.titlesize': 8}"
      ]
     },
     "execution_count": 27,
     "metadata": {},
     "output_type": "execute_result"
    }
   ],
   "source": [
    "bundles.icml2022()"
   ]
  },
  {
   "cell_type": "code",
   "execution_count": 28,
   "metadata": {},
   "outputs": [
    {
     "data": {
      "text/plain": [
       "<matplotlib.legend.Legend at 0x7f3c387c97d0>"
      ]
     },
     "execution_count": 28,
     "metadata": {},
     "output_type": "execute_result"
    },
    {
     "data": {
      "image/png": "[encoded data removed]",
      "text/plain": [
       "<Figure size 800x200 with 3 Axes>"
      ]
     },
     "metadata": {},
     "output_type": "display_data"
    }
   ],
   "source": [
    "plt.rcParams.update(bundles.icml2022())\n",
    "plt.rcParams.update({'figure.figsize': (8, 2)})\n",
    "plt.subplot(1, 3, 1)\n",
    "plt.plot(p, series_train.values, label='Uncalibrated', linestyle='--')\n",
    "plt.plot(p, new_p_hat_train, label='Calibrated', linestyle='--')\n",
    "plt.plot([0, 1], [0, 1], label=\"Ideal\", linestyle='--')\n",
    "plt.title(\n",
    "    f\"Train Data: Before cal:{ace(p.values,series_train.values):2f} After cal:{ace(p.values,new_p_hat_train):2f}\")\n",
    "plt.legend()\n",
    "\n",
    "plt.subplot(1, 3, 2)\n",
    "plt.plot(p, series_cal.values, label='Uncalibrated', linestyle='--')\n",
    "plt.plot(p, new_p_hat_cal, label='Calibrated', linestyle='--')\n",
    "plt.plot([0, 1], [0, 1], label=\"Ideal\", linestyle='--')\n",
    "plt.title(\n",
    "    f\"Cal Data: Before cal:{ace(p.values,series_cal.values):2f} After cal:{ace(p.values,new_p_hat_cal):2f}\")\n",
    "plt.legend()\n",
    "\n",
    "plt.subplot(1, 3, 3)\n",
    "plt.plot(p, series_test.values, label='Uncalibrated', linestyle='--')\n",
    "plt.plot(p, new_p_hat_test, label='Calibrated', linestyle='--')\n",
    "plt.plot([0, 1], [0, 1], label=\"Ideal\", linestyle='--')\n",
    "plt.title(\n",
    "    f\"Test Data: Before cal:{ace(p.values,series_test.values):2f} After cal:{ace(p.values,new_p_hat_test):2f}\")\n",
    "plt.legend()\n",
    "# plt.savefig(\n",
    "#     f'/home/haikoo.khandor/haikoo/conformal/con_figures/{appliances[0]}_S2P_Homo_DE.pdf')"
   ]
  }
 ],
 "metadata": {
  "kernelspec": {
   "display_name": "pc1",
   "language": "python",
   "name": "python3"
  },
  "language_info": {
   "codemirror_mode": {
    "name": "ipython",
    "version": 3
   },
   "file_extension": ".py",
   "mimetype": "text/x-python",
   "name": "python",
   "nbconvert_exporter": "python",
   "pygments_lexer": "ipython3",
   "version": "3.11.5"
  },
  "orig_nbformat": 4
 },
 "nbformat": 4,
 "nbformat_minor": 2
}

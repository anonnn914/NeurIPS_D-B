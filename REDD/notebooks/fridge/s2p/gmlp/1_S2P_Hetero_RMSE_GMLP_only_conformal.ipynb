{
 "cells": [
  {
   "cell_type": "code",
   "execution_count": 1,
   "metadata": {},
   "outputs": [],
   "source": [
    "import os\n",
    "os.chdir(\"../../../../\")"
   ]
  },
  {
   "cell_type": "code",
   "execution_count": 2,
   "metadata": {},
   "outputs": [],
   "source": [
    "os.environ['CUDA_VISIBLE_DEVICES'] = str(1)"
   ]
  },
  {
   "cell_type": "code",
   "execution_count": 3,
   "metadata": {},
   "outputs": [
    {
     "name": "stderr",
     "output_type": "stream",
     "text": [
      "2024-06-01 14:18:21.318103: W external/xla/xla/service/gpu/nvptx_compiler.cc:679] The NVIDIA driver's CUDA version is 12.2 which is older than the ptxas CUDA version (12.4.131). Because the driver is older than the ptxas version, XLA is disabling parallel compilation, which may slow down compilation. You should update your NVIDIA driver or use the NVIDIA-provided CUDA forward compatibility packages.\n"
     ]
    }
   ],
   "source": [
    "import jax\n",
    "import jax.numpy as jnp\n",
    "import numpy as np\n",
    "import flax.linen as nn\n",
    "# import optax\n",
    "import pandas as pd\n",
    "from functools import partial\n",
    "from sklearn.preprocessing import StandardScaler\n",
    "import matplotlib.pyplot as plt\n",
    "import seaborn as sns\n",
    "from utilities.fits import fit\n",
    "from datasets.dataset_loader import dataset_load\n",
    "from utilities import plot, gmm, errors, predict, preprocess\n",
    "from utilities.recalibration_conformal import *\n",
    "from models import seq2point_gaussian\n",
    "import time as time\n",
    "import scipy.stats as st\n",
    "# from mapie.metrics import regression_coverage_score\n",
    "from sklearn.isotonic import IsotonicRegression\n",
    "from tueplots import bundles\n",
    "os.environ[\"XLA_FLAGS\"] = \"--xla_gpu_deterministic_reductions --xla_gpu_autotune_level=2\"\n",
    "os.environ['TF_CUDNN_DETERMINISTIC'] = '1'\n",
    "# os.environ['TF_CPP_MIN_LOG_LEVEL'] = '0'"
   ]
  },
  {
   "cell_type": "markdown",
   "metadata": {},
   "source": [
    "# Function Definitions"
   ]
  },
  {
   "cell_type": "code",
   "execution_count": 4,
   "metadata": {},
   "outputs": [],
   "source": [
    "def find_coverage_calib(y, y_noisy, sigmas, ci, flag=False):\n",
    "    alpha = 1 - ci\n",
    "    k = st.norm.ppf(1 - alpha / 2)\n",
    "    q_hats = []\n",
    "    times = []\n",
    "    errors = []\n",
    "    upper_bounds = []\n",
    "    lower_bounds = []\n",
    "    coverage = np.zeros(len(ci))\n",
    "    if flag == False:\n",
    "        for i in range(len(ci)):\n",
    "            upper = y_noisy + k[i] * sigmas\n",
    "            lower = y_noisy - k[i] * sigmas\n",
    "            coverage[i] = np.sum((y >= lower) & (\n",
    "                y <= upper)) / len(y)\n",
    "    else:\n",
    "        for i in range(len(ci)):\n",
    "            if ci[i] == 0 or ci[i] == 1:\n",
    "                coverage[i] = ci[i]\n",
    "                q_hats.append(0)\n",
    "                continue\n",
    "            initial_upper = y_noisy + k[i] * sigmas\n",
    "            initial_lower = y_noisy - k[i] * sigmas\n",
    "            upper_err = np.array(y).reshape(-1) - \\\n",
    "                np.array(initial_upper).reshape(-1)\n",
    "            lower_err = np.array(initial_lower).reshape(-1) - \\\n",
    "                np.array(y).reshape(-1)\n",
    "            E_i = np.max(np.vstack((lower_err, upper_err)), axis=0)\n",
    "            errors.append(E_i)\n",
    "            q_level = np.ceil((len(y)+1)*ci[i])/len(y)\n",
    "            q_hat = np.quantile(E_i, q_level, method='higher')\n",
    "            q_hats.append(q_hat)\n",
    "            upper = initial_upper + q_hat\n",
    "            lower = initial_lower - q_hat\n",
    "            upper_bounds.append(upper)\n",
    "            lower_bounds.append(lower)\n",
    "            coverage[i] = np.sum((y >= lower) & (\n",
    "                y <= upper)) / len(y)\n",
    "    return coverage, q_hats, times, errors, upper_bounds, lower_bounds"
   ]
  },
  {
   "cell_type": "code",
   "execution_count": 5,
   "metadata": {},
   "outputs": [],
   "source": [
    "def find_coverage_train_test(y, y_noisy, sigmas, ci, q_hats, flag=False):\n",
    "    alpha = 1 - ci\n",
    "    k = st.norm.ppf(1 - alpha / 2)\n",
    "    coverage = np.zeros(len(ci))\n",
    "    upper_bounds = []\n",
    "    lower_bounds = []\n",
    "    if flag == False:\n",
    "        for i in range(len(ci)):\n",
    "            upper = y_noisy + k[i] * sigmas\n",
    "            lower = y_noisy - k[i] * sigmas\n",
    "            coverage[i] = np.sum((y >= lower) & (\n",
    "                y <= upper)) / len(y)\n",
    "    else:\n",
    "        for i in range(len(ci)):\n",
    "            if ci[i] == 0 or ci[i] == 1:\n",
    "                coverage[i] = ci[i]\n",
    "                continue\n",
    "            upper = y_noisy + k[i] * sigmas + q_hats[i]\n",
    "            lower = y_noisy - k[i] * sigmas - q_hats[i]\n",
    "            upper_bounds.append(upper)\n",
    "            lower_bounds.append(lower)\n",
    "            coverage[i] = np.sum((y >= lower) & (\n",
    "                y <= upper)) / len(y)\n",
    "    return coverage, q_hats, upper_bounds, lower_bounds"
   ]
  },
  {
   "cell_type": "code",
   "execution_count": 6,
   "metadata": {},
   "outputs": [],
   "source": [
    "def calib_errors(ci, coverages):\n",
    "    ece = 0.0\n",
    "    ace = 0.0\n",
    "    for i in range(len(ci)):\n",
    "        ace += abs(ci[i]-coverages[i])\n",
    "    ece = ace/len(ci)\n",
    "    return ace, ece"
   ]
  },
  {
   "cell_type": "markdown",
   "metadata": {},
   "source": [
    "# Model Training"
   ]
  },
  {
   "cell_type": "code",
   "execution_count": 7,
   "metadata": {},
   "outputs": [],
   "source": [
    "train = {1: {\n",
    "    'start_time': \"2011-04-21\",\n",
    "    'end_time': \"2011-05-21\"\n",
    "},\n",
    "    3: {\n",
    "    'start_time': \"2011-04-19\",\n",
    "    'end_time': \"2011-05-22\"\n",
    "},\n",
    "    2: {\n",
    "    'start_time': \"2011-04-21\",\n",
    "    'end_time': \"2011-05-21\"\n",
    "},\n",
    "    5: {\n",
    "    'start_time': \"2011-04-22\",\n",
    "    'end_time': \"2011-06-01\"\n",
    "}}\n",
    "test = {6: {\n",
    "    'start_time': \"2011-05-25\",\n",
    "    'end_time': \"2011-06-13\"\n",
    "}}\n",
    "appliances = [\"Refrigerator\"]"
   ]
  },
  {
   "cell_type": "code",
   "execution_count": 8,
   "metadata": {},
   "outputs": [],
   "source": [
    "datas = dataset_load(appliances, train, test, 99, split_factor=0.25)\n",
    "x_train, y_train = datas[0], datas[1]\n",
    "x_cal, y_cal = datas[2], datas[3]\n",
    "x_test, y_test = datas[4], datas[5]\n",
    "x_test_timestamp = datas[6]\n",
    "scaler_x, scaler_y = datas[7], datas[8]"
   ]
  },
  {
   "cell_type": "code",
   "execution_count": 9,
   "metadata": {},
   "outputs": [],
   "source": [
    "model = seq2point_gaussian.seq2point()"
   ]
  },
  {
   "cell_type": "code",
   "execution_count": 10,
   "metadata": {},
   "outputs": [],
   "source": [
    "params =  model.init(jax.random.PRNGKey(0), x_train, True)\n",
    "params, losses = fit(model, params, x_train, y_train, False, batch_size=1024, learning_rate=0.0001, epochs=50)"
   ]
  },
  {
   "cell_type": "code",
   "execution_count": 11,
   "metadata": {},
   "outputs": [
    {
     "data": {
      "image/png": "[encoded data removed]",
      "text/plain": [
       "<Figure size 640x480 with 1 Axes>"
      ]
     },
     "metadata": {},
     "output_type": "display_data"
    }
   ],
   "source": [
    "plt.plot(losses)\n",
    "sns.despine()"
   ]
  },
  {
   "cell_type": "markdown",
   "metadata": {},
   "source": [
    "# Before Calibration"
   ]
  },
  {
   "cell_type": "markdown",
   "metadata": {},
   "source": [
    "##### Results on Calibration Set"
   ]
  },
  {
   "cell_type": "code",
   "execution_count": 12,
   "metadata": {},
   "outputs": [],
   "source": [
    "y_hat = model.apply(params, x_cal, True, rngs={\n",
    "                    \"dropout\": jax.random.PRNGKey(0)})"
   ]
  },
  {
   "cell_type": "code",
   "execution_count": 13,
   "metadata": {},
   "outputs": [],
   "source": [
    "cal_mean = scaler_y.inverse_transform(y_hat[0])\n",
    "cal_sigma = scaler_y.scale_*y_hat[1]\n",
    "y_true_cal = scaler_y.inverse_transform(y_cal)"
   ]
  },
  {
   "cell_type": "code",
   "execution_count": 14,
   "metadata": {},
   "outputs": [
    {
     "name": "stdout",
     "output_type": "stream",
     "text": [
      "RMSE : 37.4247 MAE  : 18.3904 NLL : 3.8802\n"
     ]
    }
   ],
   "source": [
    "print(f\"RMSE : {errors.rmse(y_true_cal, cal_mean):.4f} MAE  : {errors.mae(y_true_cal, cal_mean):.4f} NLL : {errors.NLL(cal_mean,cal_sigma,y_true_cal):.4f}\")"
   ]
  },
  {
   "cell_type": "markdown",
   "metadata": {},
   "source": [
    "##### Results on Training Set"
   ]
  },
  {
   "cell_type": "code",
   "execution_count": 15,
   "metadata": {},
   "outputs": [],
   "source": [
    "y_hat_train = model.apply(params, x_train, True, rngs={\n",
    "    \"dropout\": jax.random.PRNGKey(0)})"
   ]
  },
  {
   "cell_type": "code",
   "execution_count": 16,
   "metadata": {},
   "outputs": [],
   "source": [
    "train_mean = scaler_y.inverse_transform(y_hat_train[0])\n",
    "train_sigma = scaler_y.scale_*y_hat_train[1]\n",
    "y_train_scaled = scaler_y.inverse_transform(y_train)"
   ]
  },
  {
   "cell_type": "code",
   "execution_count": 17,
   "metadata": {},
   "outputs": [
    {
     "name": "stdout",
     "output_type": "stream",
     "text": [
      "RMSE : 36.0987 MAE  : 17.4647 NLL : 3.8083\n"
     ]
    }
   ],
   "source": [
    "print(f\"RMSE : {errors.rmse(y_train_scaled, train_mean):.4f} MAE  : {errors.mae(y_train_scaled, train_mean):.4f} NLL : {errors.NLL(train_mean,train_sigma,y_train_scaled):.4f}\")"
   ]
  },
  {
   "cell_type": "markdown",
   "metadata": {},
   "source": [
    "##### Results on Test Set"
   ]
  },
  {
   "cell_type": "code",
   "execution_count": 18,
   "metadata": {},
   "outputs": [],
   "source": [
    "y_hat_test = model.apply(params, x_test, True, rngs={\n",
    "    \"dropout\": jax.random.PRNGKey(0)})\n"
   ]
  },
  {
   "cell_type": "code",
   "execution_count": 19,
   "metadata": {},
   "outputs": [],
   "source": [
    "test_mean = scaler_y.inverse_transform(y_hat_test[0])\n",
    "test_sigma = scaler_y.scale_*y_hat_test[1]"
   ]
  },
  {
   "cell_type": "code",
   "execution_count": 20,
   "metadata": {},
   "outputs": [
    {
     "name": "stdout",
     "output_type": "stream",
     "text": [
      "RMSE : 45.5170 MAE  : 26.9013 NLL : 4.7385\n"
     ]
    }
   ],
   "source": [
    "print(f\"RMSE : {errors.rmse(y_test, test_mean):.4f} MAE  : {errors.mae(y_test, test_mean):.4f} NLL : {errors.NLL(test_mean,test_sigma,y_test):.4f}\")"
   ]
  },
  {
   "cell_type": "markdown",
   "metadata": {},
   "source": [
    "# After Calibration"
   ]
  },
  {
   "cell_type": "markdown",
   "metadata": {},
   "source": [
    "### Conformal Prediction"
   ]
  },
  {
   "cell_type": "markdown",
   "metadata": {},
   "source": [
    "##### Results on Calibration Set"
   ]
  },
  {
   "cell_type": "code",
   "execution_count": 21,
   "metadata": {},
   "outputs": [],
   "source": [
    "ci = np.array([0, 0.1, 0.2, 0.3, 0.4, 0.5, 0.6, 0.7, 0.8, 0.9, 1])\n",
    "initial_coverages_cal, _, _, _, _, _ = find_coverage_calib(\n",
    "    y_true_cal, cal_mean, cal_sigma, ci)"
   ]
  },
  {
   "cell_type": "code",
   "execution_count": 22,
   "metadata": {},
   "outputs": [
    {
     "data": {
      "text/plain": [
       "array([0.        , 0.07220892, 0.14531578, 0.21378331, 0.28501946,\n",
       "       0.36373842, 0.44799462, 0.54347503, 0.67966181, 0.86216706,\n",
       "       1.        ])"
      ]
     },
     "execution_count": 22,
     "metadata": {},
     "output_type": "execute_result"
    }
   ],
   "source": [
    "initial_coverages_cal"
   ]
  },
  {
   "cell_type": "code",
   "execution_count": 23,
   "metadata": {},
   "outputs": [],
   "source": [
    "flag = True\n",
    "final_coverages_cal, q_hats, times, errors, uppers_cal, lowers_cal = find_coverage_calib(\n",
    "    y_true_cal, cal_mean, cal_sigma, ci, flag=flag)"
   ]
  },
  {
   "cell_type": "code",
   "execution_count": 24,
   "metadata": {},
   "outputs": [
    {
     "data": {
      "text/plain": [
       "array([0.        , 0.10011972, 0.2000898 , 0.30005988, 0.40010476,\n",
       "       0.50014967, 0.60011977, 0.70016462, 0.80013472, 0.90017962,\n",
       "       1.        ])"
      ]
     },
     "execution_count": 24,
     "metadata": {},
     "output_type": "execute_result"
    }
   ],
   "source": [
    "final_coverages_cal"
   ]
  },
  {
   "cell_type": "code",
   "execution_count": 25,
   "metadata": {},
   "outputs": [
    {
     "data": {
      "text/plain": [
       "[0,\n",
       " 0.71634626,\n",
       " 1.291336,\n",
       " 1.4004295,\n",
       " 1.3062515,\n",
       " 1.1805892,\n",
       " 1.0440087,\n",
       " 0.87341595,\n",
       " 0.65869904,\n",
       " 0.26022673,\n",
       " 0]"
      ]
     },
     "execution_count": 25,
     "metadata": {},
     "output_type": "execute_result"
    }
   ],
   "source": [
    "q_hats"
   ]
  },
  {
   "cell_type": "code",
   "execution_count": 26,
   "metadata": {},
   "outputs": [],
   "source": [
    "ace_init_cal, ece_init_cal = calib_errors(ci, initial_coverages_cal)\n",
    "ace_fin_cal, ece_fin_cal = calib_errors(ci, final_coverages_cal)"
   ]
  },
  {
   "cell_type": "code",
   "execution_count": 27,
   "metadata": {},
   "outputs": [
    {
     "name": "stdout",
     "output_type": "stream",
     "text": [
      "Calibration:\n",
      "Initial ace error is 0.8866355940699577 and ece error is 0.08060323582454161\n",
      "Final ace error is 0.0011225640773772916 and ece error is 0.00010205127976157196\n"
     ]
    }
   ],
   "source": [
    "print('Calibration:')\n",
    "print(f'Initial ace error is {ace_init_cal} and ece error is {ece_init_cal}')\n",
    "print(f'Final ace error is {ace_fin_cal} and ece error is {ece_fin_cal}')"
   ]
  },
  {
   "cell_type": "markdown",
   "metadata": {},
   "source": [
    "##### Results on Training Set"
   ]
  },
  {
   "cell_type": "code",
   "execution_count": 28,
   "metadata": {},
   "outputs": [
    {
     "data": {
      "text/plain": [
       "array([0.        , 0.07228374, 0.14449267, 0.21737504, 0.29265189,\n",
       "       0.37354085, 0.45819616, 0.55360174, 0.69103563, 0.87476307,\n",
       "       1.        ])"
      ]
     },
     "execution_count": 28,
     "metadata": {},
     "output_type": "execute_result"
    }
   ],
   "source": [
    "ci = np.array([0, 0.1, 0.2, 0.3, 0.4, 0.5, 0.6, 0.7, 0.8, 0.9, 1])\n",
    "initial_coverages_train, _, _, _ = find_coverage_train_test(\n",
    "    y_train_scaled, train_mean, train_sigma, ci, [])\n",
    "initial_coverages_train"
   ]
  },
  {
   "cell_type": "code",
   "execution_count": 29,
   "metadata": {},
   "outputs": [
    {
     "data": {
      "text/plain": [
       "[0,\n",
       " 0.71634626,\n",
       " 1.291336,\n",
       " 1.4004295,\n",
       " 1.3062515,\n",
       " 1.1805892,\n",
       " 1.0440087,\n",
       " 0.87341595,\n",
       " 0.65869904,\n",
       " 0.26022673,\n",
       " 0]"
      ]
     },
     "execution_count": 29,
     "metadata": {},
     "output_type": "execute_result"
    }
   ],
   "source": [
    "q_hats"
   ]
  },
  {
   "cell_type": "code",
   "execution_count": 30,
   "metadata": {},
   "outputs": [
    {
     "name": "stdout",
     "output_type": "stream",
     "text": [
      "[0.         0.09917191 0.20310785 0.31063554 0.41013169 0.5132944\n",
      " 0.61603314 0.71547937 0.81355381 0.91302502 1.        ]\n"
     ]
    }
   ],
   "source": [
    "flag = True\n",
    "final_coverages_train, q_hats, uppers_train, lowers_train = find_coverage_train_test(\n",
    "    y_train_scaled, train_mean, train_sigma, ci, q_hats, flag=flag)\n",
    "print(final_coverages_train)"
   ]
  },
  {
   "cell_type": "code",
   "execution_count": 31,
   "metadata": {},
   "outputs": [],
   "source": [
    "ace_init_train, ece_init_train = calib_errors(ci, initial_coverages_train)\n",
    "ace_fin_train, ece_fin_train = calib_errors(ci, final_coverages_train)"
   ]
  },
  {
   "cell_type": "code",
   "execution_count": 32,
   "metadata": {},
   "outputs": [
    {
     "name": "stdout",
     "output_type": "stream",
     "text": [
      "Train:\n",
      "Initial ace error is 0.8220591992139816 and ece error is 0.07473265447399834\n",
      "Final ace error is 0.09608891308307646 and ece error is 0.008735355734825133\n"
     ]
    }
   ],
   "source": [
    "print('Train:')\n",
    "print(\n",
    "    f'Initial ace error is {ace_init_train} and ece error is {ece_init_train}')\n",
    "print(f'Final ace error is {ace_fin_train} and ece error is {ece_fin_train}')"
   ]
  },
  {
   "cell_type": "markdown",
   "metadata": {},
   "source": [
    "##### Results on Test Set"
   ]
  },
  {
   "cell_type": "code",
   "execution_count": 33,
   "metadata": {},
   "outputs": [
    {
     "data": {
      "text/plain": [
       "array([0.        , 0.05857816, 0.12305584, 0.1856862 , 0.25236875,\n",
       "       0.32548717, 0.40152556, 0.4885883 , 0.59180027, 0.74739289,\n",
       "       1.        ])"
      ]
     },
     "execution_count": 33,
     "metadata": {},
     "output_type": "execute_result"
    }
   ],
   "source": [
    "ci = np.array([0, 0.1, 0.2, 0.3, 0.4, 0.5, 0.6, 0.7, 0.8, 0.9, 1])\n",
    "initial_coverages_test, _, _, _ = find_coverage_train_test(\n",
    "    y_test, test_mean, test_sigma, ci, [])\n",
    "initial_coverages_test"
   ]
  },
  {
   "cell_type": "code",
   "execution_count": 34,
   "metadata": {},
   "outputs": [
    {
     "data": {
      "text/plain": [
       "[0,\n",
       " 0.71634626,\n",
       " 1.291336,\n",
       " 1.4004295,\n",
       " 1.3062515,\n",
       " 1.1805892,\n",
       " 1.0440087,\n",
       " 0.87341595,\n",
       " 0.65869904,\n",
       " 0.26022673,\n",
       " 0]"
      ]
     },
     "execution_count": 34,
     "metadata": {},
     "output_type": "execute_result"
    }
   ],
   "source": [
    "q_hats"
   ]
  },
  {
   "cell_type": "code",
   "execution_count": 35,
   "metadata": {},
   "outputs": [
    {
     "name": "stdout",
     "output_type": "stream",
     "text": [
      "[0.         0.07168822 0.14587927 0.21518384 0.28228354 0.36273167\n",
      " 0.45491928 0.57016867 0.67945892 0.77754605 1.        ]\n"
     ]
    }
   ],
   "source": [
    "flag = True\n",
    "final_coverages_test, q_hats, uppers_test, lowers_test = find_coverage_train_test(\n",
    "    y_test, test_mean, test_sigma, ci, q_hats, flag=flag)\n",
    "print(final_coverages_test)"
   ]
  },
  {
   "cell_type": "code",
   "execution_count": 36,
   "metadata": {},
   "outputs": [],
   "source": [
    "ace_init_test, ece_init_test = calib_errors(ci, initial_coverages_test)\n",
    "ace_fin_test, ece_fin_test = calib_errors(ci, final_coverages_test)"
   ]
  },
  {
   "cell_type": "code",
   "execution_count": 37,
   "metadata": {},
   "outputs": [
    {
     "name": "stdout",
     "output_type": "stream",
     "text": [
      "Initial ace error is 1.325516864657402 and ece error is 0.12050153315067291\n",
      "Final ace error is 0.9401405453681946 and ece error is 0.08546732230619951\n"
     ]
    }
   ],
   "source": [
    "print(f'Initial ace error is {ace_init_test} and ece error is {ece_init_test}')\n",
    "print(f'Final ace error is {ace_fin_test} and ece error is {ece_fin_test}')"
   ]
  },
  {
   "cell_type": "markdown",
   "metadata": {},
   "source": [
    "##### Comparison of Results"
   ]
  },
  {
   "cell_type": "code",
   "execution_count": 38,
   "metadata": {},
   "outputs": [
    {
     "data": {
      "text/plain": [
       "{'text.usetex': True,\n",
       " 'font.family': 'serif',\n",
       " 'text.latex.preamble': '\\\\usepackage{times} ',\n",
       " 'figure.figsize': (3.25, 2.0086104634371584),\n",
       " 'figure.constrained_layout.use': True,\n",
       " 'figure.autolayout': False,\n",
       " 'savefig.bbox': 'tight',\n",
       " 'savefig.pad_inches': 0.015,\n",
       " 'font.size': 8,\n",
       " 'axes.labelsize': 8,\n",
       " 'legend.fontsize': 6,\n",
       " 'xtick.labelsize': 6,\n",
       " 'ytick.labelsize': 6,\n",
       " 'axes.titlesize': 8}"
      ]
     },
     "execution_count": 38,
     "metadata": {},
     "output_type": "execute_result"
    }
   ],
   "source": [
    "bundles.icml2022()"
   ]
  },
  {
   "cell_type": "code",
   "execution_count": 39,
   "metadata": {},
   "outputs": [
    {
     "data": {
      "text/plain": [
       "<matplotlib.legend.Legend at 0x7fcac045f310>"
      ]
     },
     "execution_count": 39,
     "metadata": {},
     "output_type": "execute_result"
    },
    {
     "data": {
      "image/png": "[encoded data removed]",
      "text/plain": [
       "<Figure size 900x200 with 3 Axes>"
      ]
     },
     "metadata": {},
     "output_type": "display_data"
    }
   ],
   "source": [
    "# Train\n",
    "plt.rcParams.update(bundles.icml2022())\n",
    "plt.rcParams.update({'figure.figsize': (9, 2)})\n",
    "plt.subplot(1, 3, 1)\n",
    "plt.plot(ci, initial_coverages_train, label='Uncalibrated', linestyle='--')\n",
    "plt.plot(ci, final_coverages_train, label='Calibrated', linestyle='--')\n",
    "plt.plot([0, 1], [0, 1], label=\"Ideal\", linestyle='--')\n",
    "plt.title(\n",
    "    f'Train:Before Calibration: {\"{:.4f}\".format(ece_init_train)}, After Calibration: {\"{:.4f}\".format(ece_fin_train)}')\n",
    "plt.legend()\n",
    "\n",
    "# Calibration\n",
    "plt.subplot(1, 3, 2)\n",
    "plt.plot(ci, initial_coverages_cal, label='Uncalibrated', linestyle='--')\n",
    "plt.plot(ci, final_coverages_cal, label='Calibrated', linestyle='--')\n",
    "plt.plot([0, 1], [0, 1], label=\"Ideal\", linestyle='--')\n",
    "plt.title(\n",
    "    f'Calibration:Before Calibration: {\"{:.4f}\".format(ece_init_cal)}, After Calibration: {\"{:.4f}\".format(ece_fin_cal)}')\n",
    "plt.legend()\n",
    "\n",
    "# Test\n",
    "plt.subplot(1, 3, 3)\n",
    "plt.plot(ci, initial_coverages_test, label='Uncalibrated', linestyle='--')\n",
    "plt.plot(ci, final_coverages_test, label='Calibrated', linestyle='--')\n",
    "plt.plot([0, 1], [0, 1], label=\"Ideal\", linestyle='--')\n",
    "plt.title(\n",
    "    f'Test:Before Calibration: {\"{:.4f}\".format(ece_init_test)}, After Calibration: {\"{:.4f}\".format(ece_fin_test)}')\n",
    "plt.legend()\n",
    "# plt.savefig(\n",
    "#     f'/home/haikoo.khandor/haikoo/conformal/con_figures/{appliances[0]}_S2P_Hetero_Conformal_Conformal.pdf')"
   ]
  }
 ],
 "metadata": {
  "kernelspec": {
   "display_name": "personal",
   "language": "python",
   "name": "python3"
  },
  "language_info": {
   "codemirror_mode": {
    "name": "ipython",
    "version": 3
   },
   "file_extension": ".py",
   "mimetype": "text/x-python",
   "name": "python",
   "nbconvert_exporter": "python",
   "pygments_lexer": "ipython3",
   "version": "3.11.5"
  },
  "orig_nbformat": 4
 },
 "nbformat": 4,
 "nbformat_minor": 2
}

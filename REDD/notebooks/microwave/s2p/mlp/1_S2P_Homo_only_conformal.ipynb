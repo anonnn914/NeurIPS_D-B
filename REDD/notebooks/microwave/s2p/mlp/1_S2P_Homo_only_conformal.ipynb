{
 "cells": [
  {
   "cell_type": "code",
   "execution_count": 1,
   "metadata": {
    "id": "up9lgeK2Tzt_"
   },
   "outputs": [],
   "source": [
    "import os\n",
    "os.chdir(\"../../../../\")"
   ]
  },
  {
   "cell_type": "code",
   "execution_count": 2,
   "metadata": {},
   "outputs": [],
   "source": [
    "os.environ['CUDA_VISIBLE_DEVICES'] = str(0)"
   ]
  },
  {
   "cell_type": "code",
   "execution_count": 3,
   "metadata": {},
   "outputs": [
    {
     "name": "stderr",
     "output_type": "stream",
     "text": [
      "2024-05-24 18:00:23.082077: W external/xla/xla/service/gpu/nvptx_compiler.cc:679] The NVIDIA driver's CUDA version is 12.2 which is older than the ptxas CUDA version (12.4.131). Because the driver is older than the ptxas version, XLA is disabling parallel compilation, which may slow down compilation. You should update your NVIDIA driver or use the NVIDIA-provided CUDA forward compatibility packages.\n"
     ]
    }
   ],
   "source": [
    "import jax\n",
    "import jax.numpy as jnp\n",
    "import scipy.stats as st\n",
    "import numpy as np\n",
    "import flax.linen as nn\n",
    "import optax\n",
    "import pandas as pd\n",
    "from functools import partial\n",
    "from sklearn.preprocessing import StandardScaler\n",
    "import matplotlib.pyplot as plt\n",
    "import seaborn as sns\n",
    "from utilities.fits import fit\n",
    "from datasets.dataset_loader import dataset_load\n",
    "from utilities import plot, gmm, errors, predict, preprocess\n",
    "from utilities.recalibration_conformal import *\n",
    "from models import seq2point\n",
    "from sklearn.isotonic import IsotonicRegression\n",
    "from tueplots import bundles\n",
    "os.environ[\"XLA_FLAGS\"] = \"--xla_gpu_deterministic_reductions --xla_gpu_autotune_level=2\"\n",
    "os.environ['TF_CUDNN_DETERMINISTIC'] = '1'"
   ]
  },
  {
   "cell_type": "code",
   "execution_count": 4,
   "metadata": {},
   "outputs": [],
   "source": [
    "import tensorflow_probability.substrates.jax as tfp\n",
    "tfd = tfp.distributions"
   ]
  },
  {
   "cell_type": "code",
   "execution_count": 5,
   "metadata": {
    "id": "8ichcOwKGqnT"
   },
   "outputs": [],
   "source": [
    "train = {\n",
    "    1: {\n",
    "        'start_time': \"2011-04-28\",\n",
    "        'end_time': \"2011-05-15\"\n",
    "    },\n",
    "    3: {\n",
    "        'start_time': \"2011-04-19\",\n",
    "        'end_time': \"2011-05-22\"\n",
    "    }\n",
    "}\n",
    "test = {\n",
    "    2: {\n",
    "        'start_time': \"2011-04-21\",\n",
    "        'end_time': \"2011-05-21\"\n",
    "    }\n",
    "}\n",
    "appliances = [\"Microwave\"]"
   ]
  },
  {
   "cell_type": "code",
   "execution_count": 6,
   "metadata": {
    "id": "zTOYe_obGeSM"
   },
   "outputs": [],
   "source": [
    "datas = dataset_load(appliances, train, test, 99, split_factor=0.25)\n",
    "x_train, y_train = datas[0], datas[1]\n",
    "x_cal, y_cal = datas[2], datas[3]\n",
    "x_test, y_test = datas[4], datas[5]\n",
    "x_test_timestamp = datas[6]\n",
    "scaler_x, scaler_y = datas[7], datas[8]"
   ]
  },
  {
   "cell_type": "code",
   "execution_count": 7,
   "metadata": {},
   "outputs": [],
   "source": [
    "def find_coverage_calib(y, y_noisy, ci):\n",
    "    alpha = 1 - ci                  # size = len(ci)\n",
    "    k = st.norm.ppf(1 - alpha / 2)  # size = len(ci)\n",
    "    q_hats = []\n",
    "    coverage = np.zeros(len(ci))\n",
    "    maes = []\n",
    "    for i in range(len(ci)):\n",
    "        if ci[i] == 0 or ci[i] == 1:\n",
    "            coverage[i] = ci[i]\n",
    "            q_hats.append(0)\n",
    "            continue\n",
    "        # E_i = []\n",
    "        # for j in range(len(y)):\n",
    "        #     # E_i.append(abs(y[j]-y_noisy[j] + keys[j]))\n",
    "        #     E_i.append(abs(y[j]-y_noisy[j]))\n",
    "        maes = abs(np.array(y).reshape(-1) - np.array(y_noisy).reshape(-1))\n",
    "        # E_i = maes\n",
    "        q_level = np.ceil((len(y)+1)*ci[i])/len(y)\n",
    "        # print(\"q_level: \", q_level)\n",
    "        q_hat = np.quantile(maes, q_level, method='higher')\n",
    "        q_hats.append(q_hat)\n",
    "        upper = y_noisy + q_hat\n",
    "        lower = y_noisy - q_hat\n",
    "        coverage[i] = np.sum((y >= lower) & (\n",
    "            y <= upper)) / len(y)\n",
    "    return coverage, q_hats, maes"
   ]
  },
  {
   "cell_type": "code",
   "execution_count": 8,
   "metadata": {},
   "outputs": [],
   "source": [
    "def find_coverage_train_test(y, y_noisy, ci, q_hats):\n",
    "    alpha = 1 - ci                  # size = len(ci)\n",
    "    k = st.norm.ppf(1 - alpha / 2)  # size = len(ci)\n",
    "    coverage = np.zeros(len(ci))\n",
    "    for i in range(len(ci)):\n",
    "        if ci[i] == 0 or ci[i] == 1:\n",
    "            coverage[i] = ci[i]\n",
    "            continue\n",
    "        upper = y_noisy + q_hats[i]\n",
    "        lower = y_noisy - q_hats[i]\n",
    "        coverage[i] = np.sum((y >= lower) & (\n",
    "            y <= upper)) / len(y)\n",
    "        # check if 0 is in ci array and if so, set coverage to 0 at that index\n",
    "\n",
    "    return coverage, q_hats"
   ]
  },
  {
   "cell_type": "code",
   "execution_count": 9,
   "metadata": {},
   "outputs": [],
   "source": [
    "def calib_errors(ci, coverages):\n",
    "    ece = 0.0\n",
    "    ace = 0.0\n",
    "    for i in range(len(ci)):\n",
    "        ace += abs(ci[i]-coverages[i])\n",
    "    ece = ace/len(ci)\n",
    "    return ace, ece"
   ]
  },
  {
   "cell_type": "markdown",
   "metadata": {},
   "source": [
    "## Seq2point"
   ]
  },
  {
   "cell_type": "code",
   "execution_count": 10,
   "metadata": {
    "id": "SNzk92svTzuS"
   },
   "outputs": [],
   "source": [
    "model = seq2point.seq2point()"
   ]
  },
  {
   "cell_type": "code",
   "execution_count": 11,
   "metadata": {
    "colab": {
     "base_uri": "https://localhost:8080/"
    },
    "id": "7uNrlYHRTzuX",
    "outputId": "b24c6fcf-fb07-42d7-da11-f408edac58fa"
   },
   "outputs": [],
   "source": [
    "params =  model.init(jax.random.PRNGKey(0), x_train, True)\n",
    "params, losses = fit(model, params, x_train, y_train, False, batch_size=32, learning_rate=0.001, epochs=50)"
   ]
  },
  {
   "cell_type": "code",
   "execution_count": 12,
   "metadata": {},
   "outputs": [
    {
     "data": {
      "image/png": "[encoded data removed]",
      "text/plain": [
       "<Figure size 640x480 with 1 Axes>"
      ]
     },
     "metadata": {},
     "output_type": "display_data"
    }
   ],
   "source": [
    "plt.plot(losses)\n",
    "sns.despine()"
   ]
  },
  {
   "cell_type": "markdown",
   "metadata": {},
   "source": [
    "#### Calibration Results"
   ]
  },
  {
   "cell_type": "code",
   "execution_count": 13,
   "metadata": {},
   "outputs": [],
   "source": [
    "y_hat_cal = model.apply(params, x_cal, True, rngs={\n",
    "                        \"dropout\": jax.random.PRNGKey(0)})"
   ]
  },
  {
   "cell_type": "code",
   "execution_count": 14,
   "metadata": {},
   "outputs": [],
   "source": [
    "y_hat_cal = scaler_y.inverse_transform(y_hat_cal)\n",
    "y_true_cal = scaler_y.inverse_transform(y_cal)"
   ]
  },
  {
   "cell_type": "code",
   "execution_count": 15,
   "metadata": {},
   "outputs": [
    {
     "name": "stdout",
     "output_type": "stream",
     "text": [
      "RMSE : 71.8728 MAE  : 6.9308\n"
     ]
    }
   ],
   "source": [
    "print(f\"RMSE : {errors.rmse(y_true_cal, y_hat_cal):.4f} MAE  : {errors.mae(y_true_cal, y_hat_cal):.4f}\")"
   ]
  },
  {
   "cell_type": "markdown",
   "metadata": {},
   "source": [
    "#### Training Results"
   ]
  },
  {
   "cell_type": "code",
   "execution_count": 16,
   "metadata": {},
   "outputs": [],
   "source": [
    "y_hat_train = model.apply(params, x_train, True, rngs={\n",
    "                          \"dropout\": jax.random.PRNGKey(0)})"
   ]
  },
  {
   "cell_type": "code",
   "execution_count": 17,
   "metadata": {},
   "outputs": [],
   "source": [
    "y_hat_train = scaler_y.inverse_transform(y_hat_train)\n",
    "y_true = scaler_y.inverse_transform(y_train)"
   ]
  },
  {
   "cell_type": "code",
   "execution_count": 18,
   "metadata": {},
   "outputs": [
    {
     "name": "stdout",
     "output_type": "stream",
     "text": [
      "RMSE : 21.4783 MAE  : 2.5968\n"
     ]
    }
   ],
   "source": [
    "print(f\"RMSE : {errors.rmse(y_true, y_hat_train):.4f} MAE  : {errors.mae(y_true, y_hat_train):.4f}\")"
   ]
  },
  {
   "cell_type": "markdown",
   "metadata": {},
   "source": [
    "#### Testing Results"
   ]
  },
  {
   "cell_type": "code",
   "execution_count": 19,
   "metadata": {},
   "outputs": [],
   "source": [
    "y_hat_test = model.apply(params, x_test, True, rngs={\"dropout\":jax.random.PRNGKey(0)})\n",
    "y_hat_test = scaler_y.inverse_transform(y_hat_test)"
   ]
  },
  {
   "cell_type": "code",
   "execution_count": 20,
   "metadata": {},
   "outputs": [
    {
     "name": "stdout",
     "output_type": "stream",
     "text": [
      "RMSE : 83.0601\n",
      "MAE  : 11.8513\n"
     ]
    }
   ],
   "source": [
    "print(f\"RMSE : {errors.rmse(y_test, y_hat_test):.4f}\\nMAE  : {errors.mae(y_test,y_hat_test):.4f}\")"
   ]
  },
  {
   "cell_type": "markdown",
   "metadata": {},
   "source": [
    "#### Calibration"
   ]
  },
  {
   "cell_type": "markdown",
   "metadata": {},
   "source": [
    "#### Conformal"
   ]
  },
  {
   "cell_type": "code",
   "execution_count": 21,
   "metadata": {},
   "outputs": [],
   "source": [
    "# keys = jax.random.normal(jax.random.PRNGKey(0), shape = (len(y_hat_cal),))*0.3\n",
    "ci = np.array([0, 0.1, 0.2, 0.3, 0.4, 0.5, 0.6, 0.7, 0.8, 0.9, 1])\n",
    "coverages_cal, q_hats, maes = find_coverage_calib(y_true_cal, y_hat_cal, ci)"
   ]
  },
  {
   "cell_type": "code",
   "execution_count": 22,
   "metadata": {},
   "outputs": [
    {
     "data": {
      "text/plain": [
       "{'text.usetex': True,\n",
       " 'font.family': 'serif',\n",
       " 'text.latex.preamble': '\\\\usepackage{times} ',\n",
       " 'figure.figsize': (3.25, 2.0086104634371584),\n",
       " 'figure.constrained_layout.use': True,\n",
       " 'figure.autolayout': False,\n",
       " 'savefig.bbox': 'tight',\n",
       " 'savefig.pad_inches': 0.015,\n",
       " 'font.size': 8,\n",
       " 'axes.labelsize': 8,\n",
       " 'legend.fontsize': 6,\n",
       " 'xtick.labelsize': 6,\n",
       " 'ytick.labelsize': 6,\n",
       " 'axes.titlesize': 8}"
      ]
     },
     "execution_count": 22,
     "metadata": {},
     "output_type": "execute_result"
    }
   ],
   "source": [
    "bundles.icml2022()"
   ]
  },
  {
   "cell_type": "code",
   "execution_count": 23,
   "metadata": {},
   "outputs": [
    {
     "name": "stdout",
     "output_type": "stream",
     "text": [
      "Calibration:\n",
      "Final ace error is 1.4385232744783307 and ece error is 0.1307748431343937\n"
     ]
    }
   ],
   "source": [
    "ace_fin_cal, ece_fin_cal = calib_errors(ci, coverages_cal)\n",
    "print('Calibration:')\n",
    "print(f'Final ace error is {ace_fin_cal} and ece error is {ece_fin_cal}')"
   ]
  },
  {
   "cell_type": "code",
   "execution_count": 24,
   "metadata": {},
   "outputs": [
    {
     "data": {
      "text/plain": [
       "array([0.        , 0.48967252, 0.48967252, 0.48967252, 0.48967252,\n",
       "       0.50808005, 0.87794307, 0.87794307, 0.87794307, 0.91347389,\n",
       "       1.        ])"
      ]
     },
     "execution_count": 24,
     "metadata": {},
     "output_type": "execute_result"
    }
   ],
   "source": [
    "ci = np.array([0, 0.1, 0.2, 0.3, 0.4, 0.5, 0.6, 0.7, 0.8, 0.9, 1])\n",
    "coverages_train, _ = find_coverage_train_test(\n",
    "    y_true, y_hat_train, ci, q_hats)\n",
    "coverages_train"
   ]
  },
  {
   "cell_type": "code",
   "execution_count": 25,
   "metadata": {},
   "outputs": [
    {
     "data": {
      "text/plain": [
       "[0,\n",
       " 0.7805586,\n",
       " 0.7805586,\n",
       " 0.7805586,\n",
       " 0.7805586,\n",
       " 0.84722567,\n",
       " 1.2194412,\n",
       " 1.2194412,\n",
       " 1.2194412,\n",
       " 1.4694412,\n",
       " 0]"
      ]
     },
     "execution_count": 25,
     "metadata": {},
     "output_type": "execute_result"
    }
   ],
   "source": [
    "q_hats"
   ]
  },
  {
   "cell_type": "code",
   "execution_count": 26,
   "metadata": {},
   "outputs": [
    {
     "name": "stdout",
     "output_type": "stream",
     "text": [
      "Train:\n",
      "Final ace error is 1.5140732020547947 and ece error is 0.1376430183686177\n"
     ]
    }
   ],
   "source": [
    "ace_fin_train, ece_fin_train = calib_errors(ci, coverages_train)\n",
    "print('Train:')\n",
    "print(f'Final ace error is {ace_fin_train} and ece error is {ece_fin_train}')"
   ]
  },
  {
   "cell_type": "code",
   "execution_count": 27,
   "metadata": {},
   "outputs": [
    {
     "data": {
      "text/plain": [
       "array([0.        , 0.00389627, 0.00389627, 0.00389627, 0.00389627,\n",
       "       0.00427951, 0.2000511 , 0.2000511 , 0.2000511 , 0.42233008,\n",
       "       1.        ])"
      ]
     },
     "execution_count": 27,
     "metadata": {},
     "output_type": "execute_result"
    }
   ],
   "source": [
    "ci = np.array([0, 0.1, 0.2, 0.3, 0.4, 0.5, 0.6, 0.7, 0.8, 0.9, 1])\n",
    "coverages_test, _ = find_coverage_train_test(\n",
    "    y_test, y_hat_test, ci, q_hats)\n",
    "coverages_test"
   ]
  },
  {
   "cell_type": "code",
   "execution_count": 28,
   "metadata": {},
   "outputs": [
    {
     "name": "stdout",
     "output_type": "stream",
     "text": [
      "Final ace error is 3.457652033306658 and ece error is 0.314332003027878\n"
     ]
    }
   ],
   "source": [
    "ace_fin_test, ece_fin_test = calib_errors(ci, coverages_test)\n",
    "print(f'Final ace error is {ace_fin_test} and ece error is {ece_fin_test}')"
   ]
  },
  {
   "cell_type": "code",
   "execution_count": 29,
   "metadata": {},
   "outputs": [
    {
     "data": {
      "text/plain": [
       "{'text.usetex': True,\n",
       " 'font.family': 'serif',\n",
       " 'text.latex.preamble': '\\\\usepackage{times} ',\n",
       " 'figure.figsize': (3.25, 2.0086104634371584),\n",
       " 'figure.constrained_layout.use': True,\n",
       " 'figure.autolayout': False,\n",
       " 'savefig.bbox': 'tight',\n",
       " 'savefig.pad_inches': 0.015,\n",
       " 'font.size': 8,\n",
       " 'axes.labelsize': 8,\n",
       " 'legend.fontsize': 6,\n",
       " 'xtick.labelsize': 6,\n",
       " 'ytick.labelsize': 6,\n",
       " 'axes.titlesize': 8}"
      ]
     },
     "execution_count": 29,
     "metadata": {},
     "output_type": "execute_result"
    }
   ],
   "source": [
    "bundles.icml2022()"
   ]
  },
  {
   "cell_type": "code",
   "execution_count": 30,
   "metadata": {},
   "outputs": [
    {
     "data": {
      "text/plain": [
       "<matplotlib.legend.Legend at 0x7f4e1077d290>"
      ]
     },
     "execution_count": 30,
     "metadata": {},
     "output_type": "execute_result"
    },
    {
     "data": {
      "image/png": "[encoded data removed]",
      "text/plain": [
       "<Figure size 550x200 with 3 Axes>"
      ]
     },
     "metadata": {},
     "output_type": "display_data"
    }
   ],
   "source": [
    "plt.rcParams.update(bundles.icml2022())\n",
    "plt.rcParams.update({'figure.figsize': (5.5, 2)})\n",
    "plt.subplot(1, 3, 1)\n",
    "plt.plot(ci, coverages_train, label='After Conformal', linestyle='--')\n",
    "plt.plot([0, 1], [0, 1], label=\"Ideal\", linestyle='--')\n",
    "plt.title(\n",
    "    f'Train: After Calibration: {\"{:.4f}\".format(ece_fin_train)}')\n",
    "plt.legend()\n",
    "\n",
    "# Calibration\n",
    "plt.subplot(1, 3, 2)\n",
    "plt.plot(ci, coverages_cal, label='After Conformal', linestyle='--')\n",
    "plt.plot([0, 1], [0, 1], label=\"Ideal\", linestyle='--')\n",
    "plt.title(\n",
    "    f'Calibration: After Calibration: {\"{:.4f}\".format(ece_fin_cal)}')\n",
    "plt.legend()\n",
    "\n",
    "# Test\n",
    "plt.subplot(1, 3, 3)\n",
    "plt.plot(ci, coverages_test, label='After Conformal', linestyle='--')\n",
    "plt.plot([0, 1], [0, 1], label=\"Ideal\", linestyle='--')\n",
    "plt.title(\n",
    "    f'Test:After Calibration: {\"{:.4f}\".format(ece_fin_test)}')\n",
    "plt.legend()\n",
    "# plt.savefig(\n",
    "#     f'/home/haikoo.khandor/haikoo/conformal/con_figures/{appliances[0]}_S2P_Homo_Conformal.pdf')"
   ]
  }
 ],
 "metadata": {
  "accelerator": "GPU",
  "colab": {
   "collapsed_sections": [],
   "name": "refrigerator_s2p.ipynb",
   "provenance": []
  },
  "gpuClass": "standard",
  "kernelspec": {
   "display_name": "Python 3 (ipykernel)",
   "language": "python",
   "name": "python3"
  },
  "language_info": {
   "codemirror_mode": {
    "name": "ipython",
    "version": 3
   },
   "file_extension": ".py",
   "mimetype": "text/x-python",
   "name": "python",
   "nbconvert_exporter": "python",
   "pygments_lexer": "ipython3",
   "version": "3.11.5"
  },
  "vscode": {
   "interpreter": {
    "hash": "c83e220350cf0ab5826e6b1be89cddaa76cb99bb0cd09005c249f61fd7463acd"
   }
  }
 },
 "nbformat": 4,
 "nbformat_minor": 1
}
